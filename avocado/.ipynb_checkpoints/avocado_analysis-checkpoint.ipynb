{
 "cells": [
  {
   "cell_type": "markdown",
   "metadata": {},
   "source": [
    "# Intro to Pandas(Kaggle Session #2)\n",
    "Practice with avocado dataset. \n",
    "\n",
    "Based on the practice 'Intro to Pandas(Kaggle Session #2)' from DS3@UCSD\n",
    "\n",
    "https://medium.com/ds3ucsd/intro-to-pandas-kaggle-session-2-b18fcd3f50cb"
   ]
  },
  {
   "cell_type": "code",
   "execution_count": 55,
   "metadata": {},
   "outputs": [],
   "source": [
    "import numpy as np\n",
    "import pandas as pd\n",
    "import matplotlib.pyplot as plt\n",
    "%matplotlib inline"
   ]
  },
  {
   "cell_type": "code",
   "execution_count": 28,
   "metadata": {},
   "outputs": [
    {
     "data": {
      "text/html": [
       "<div>\n",
       "<style scoped>\n",
       "    .dataframe tbody tr th:only-of-type {\n",
       "        vertical-align: middle;\n",
       "    }\n",
       "\n",
       "    .dataframe tbody tr th {\n",
       "        vertical-align: top;\n",
       "    }\n",
       "\n",
       "    .dataframe thead th {\n",
       "        text-align: right;\n",
       "    }\n",
       "</style>\n",
       "<table border=\"1\" class=\"dataframe\">\n",
       "  <thead>\n",
       "    <tr style=\"text-align: right;\">\n",
       "      <th></th>\n",
       "      <th>Date</th>\n",
       "      <th>Average Price</th>\n",
       "      <th>Total Volume</th>\n",
       "      <th>4046</th>\n",
       "      <th>4225</th>\n",
       "      <th>4770</th>\n",
       "      <th>Total Bags</th>\n",
       "      <th>Small Bags</th>\n",
       "      <th>Large Bags</th>\n",
       "      <th>XLarge Bags</th>\n",
       "      <th>type</th>\n",
       "      <th>year</th>\n",
       "      <th>region</th>\n",
       "    </tr>\n",
       "  </thead>\n",
       "  <tbody>\n",
       "    <tr>\n",
       "      <th>7791</th>\n",
       "      <td>2017-12-17</td>\n",
       "      <td>0.73</td>\n",
       "      <td>719091.14</td>\n",
       "      <td>147099.59</td>\n",
       "      <td>439224.74</td>\n",
       "      <td>17641.76</td>\n",
       "      <td>115125.05</td>\n",
       "      <td>108179.86</td>\n",
       "      <td>4196.30</td>\n",
       "      <td>2748.89</td>\n",
       "      <td>conventional</td>\n",
       "      <td>2017</td>\n",
       "      <td>SanDiego</td>\n",
       "    </tr>\n",
       "    <tr>\n",
       "      <th>7835</th>\n",
       "      <td>2017-02-12</td>\n",
       "      <td>0.70</td>\n",
       "      <td>645130.97</td>\n",
       "      <td>203848.19</td>\n",
       "      <td>199351.67</td>\n",
       "      <td>13290.00</td>\n",
       "      <td>228641.11</td>\n",
       "      <td>220708.30</td>\n",
       "      <td>7652.81</td>\n",
       "      <td>280.00</td>\n",
       "      <td>conventional</td>\n",
       "      <td>2017</td>\n",
       "      <td>SanDiego</td>\n",
       "    </tr>\n",
       "    <tr>\n",
       "      <th>7836</th>\n",
       "      <td>2017-02-05</td>\n",
       "      <td>0.63</td>\n",
       "      <td>892740.87</td>\n",
       "      <td>260418.91</td>\n",
       "      <td>290223.93</td>\n",
       "      <td>20313.95</td>\n",
       "      <td>321784.08</td>\n",
       "      <td>318872.23</td>\n",
       "      <td>2886.85</td>\n",
       "      <td>25.00</td>\n",
       "      <td>conventional</td>\n",
       "      <td>2017</td>\n",
       "      <td>SanDiego</td>\n",
       "    </tr>\n",
       "    <tr>\n",
       "      <th>7837</th>\n",
       "      <td>2017-01-29</td>\n",
       "      <td>0.65</td>\n",
       "      <td>776310.02</td>\n",
       "      <td>282233.20</td>\n",
       "      <td>253233.56</td>\n",
       "      <td>14380.96</td>\n",
       "      <td>226462.30</td>\n",
       "      <td>209999.44</td>\n",
       "      <td>13407.30</td>\n",
       "      <td>3055.56</td>\n",
       "      <td>conventional</td>\n",
       "      <td>2017</td>\n",
       "      <td>SanDiego</td>\n",
       "    </tr>\n",
       "    <tr>\n",
       "      <th>7838</th>\n",
       "      <td>2017-01-22</td>\n",
       "      <td>0.74</td>\n",
       "      <td>695873.15</td>\n",
       "      <td>313593.77</td>\n",
       "      <td>174728.80</td>\n",
       "      <td>15139.20</td>\n",
       "      <td>192411.38</td>\n",
       "      <td>179361.27</td>\n",
       "      <td>13050.11</td>\n",
       "      <td>0.00</td>\n",
       "      <td>conventional</td>\n",
       "      <td>2017</td>\n",
       "      <td>SanDiego</td>\n",
       "    </tr>\n",
       "  </tbody>\n",
       "</table>\n",
       "</div>"
      ],
      "text/plain": [
       "            Date  Average Price  Total Volume       4046       4225      4770  \\\n",
       "7791  2017-12-17           0.73     719091.14  147099.59  439224.74  17641.76   \n",
       "7835  2017-02-12           0.70     645130.97  203848.19  199351.67  13290.00   \n",
       "7836  2017-02-05           0.63     892740.87  260418.91  290223.93  20313.95   \n",
       "7837  2017-01-29           0.65     776310.02  282233.20  253233.56  14380.96   \n",
       "7838  2017-01-22           0.74     695873.15  313593.77  174728.80  15139.20   \n",
       "\n",
       "      Total Bags  Small Bags  Large Bags  XLarge Bags          type  year  \\\n",
       "7791   115125.05   108179.86     4196.30      2748.89  conventional  2017   \n",
       "7835   228641.11   220708.30     7652.81       280.00  conventional  2017   \n",
       "7836   321784.08   318872.23     2886.85        25.00  conventional  2017   \n",
       "7837   226462.30   209999.44    13407.30      3055.56  conventional  2017   \n",
       "7838   192411.38   179361.27    13050.11         0.00  conventional  2017   \n",
       "\n",
       "        region  \n",
       "7791  SanDiego  \n",
       "7835  SanDiego  \n",
       "7836  SanDiego  \n",
       "7837  SanDiego  \n",
       "7838  SanDiego  "
      ]
     },
     "execution_count": 28,
     "metadata": {},
     "output_type": "execute_result"
    }
   ],
   "source": [
    "avocados = pd.read_csv('./avocado.csv')\n",
    "avocados = avocados.drop('Unnamed: 0', axis=1).rename(columns={'AveragePrice': 'Average Price'})\n",
    "avocados = avocados[(avocados.region == 'SanDiego') & (avocados.year == 2017) & (avocados['Average Price'] < 0.75)]\n",
    "# avocados = avocados[avocados.year == 2017] \n",
    "\n",
    "avocados"
   ]
  },
  {
   "cell_type": "code",
   "execution_count": 35,
   "metadata": {},
   "outputs": [
    {
     "data": {
      "text/plain": [
       "0.0057842936913957465"
      ]
     },
     "execution_count": 35,
     "metadata": {},
     "output_type": "execute_result"
    }
   ],
   "source": [
    "# proportion  avocadoes sold in SD vs total volume sold\n",
    "avocados = pd.read_csv('./avocado.csv')\n",
    "avocado_sd = avocados[avocados.region == 'SanDiego']\n",
    "prop_sd_totVol = avocado_sd['Total Volume'].sum() / avocados['Total Volume'].sum()\n",
    "\n",
    "avocado_sd\n",
    "prop_sd_totVol"
   ]
  },
  {
   "cell_type": "code",
   "execution_count": 81,
   "metadata": {
    "scrolled": true
   },
   "outputs": [
    {
     "data": {
      "text/plain": [
       "region\n",
       "Syracuse                15205192.60\n",
       "Boise                   15346666.47\n",
       "Spokane                 17156485.66\n",
       "Louisville              17495546.93\n",
       "Albany                  21766723.75\n",
       "Pittsburgh              23194807.79\n",
       "Roanoke                 27409281.76\n",
       "BuffaloRochester        31545094.18\n",
       "Columbus                31562947.48\n",
       "Jacksonville            33483957.56\n",
       "Indianapolis            34024736.61\n",
       "Nashville               35726637.65\n",
       "StLouis                 37439463.00\n",
       "GrandRapids             37851238.92\n",
       "CincinnatiDayton        44989579.66\n",
       "Charlotte               45743042.40\n",
       "RichmondNorfolk         47344816.08\n",
       "NewOrleansMobile        48676263.88\n",
       "HarrisburgScranton      52954718.51\n",
       "LasVegas                54809053.70\n",
       "RaleighGreensboro       59837796.06\n",
       "Detroit                 69126241.66\n",
       "SouthCarolina           69528083.24\n",
       "Orlando                 69611214.25\n",
       "HartfordSpringfield     71186448.73\n",
       "Tampa                   76959063.97\n",
       "NorthernNewEngland      89625254.97\n",
       "SanDiego                93527102.27\n",
       "Atlanta                 93793369.00\n",
       "Sacramento              94808703.77\n",
       "Philadelphia            99815825.55\n",
       "Portland               112864574.76\n",
       "MiamiFtLauderdale      118581508.89\n",
       "WestTexNewMexico       121565419.18\n",
       "Seattle                125179125.32\n",
       "Boston                 126542904.75\n",
       "PhoenixTucson          138451462.02\n",
       "Denver                 145982845.53\n",
       "Houston                165571340.23\n",
       "DallasFtWorth          175609297.87\n",
       "Chicago                179110584.76\n",
       "BaltimoreWashington    179908448.06\n",
       "SanFrancisco           185834084.04\n",
       "NewYork                335195542.05\n",
       "Plains                 360036649.82\n",
       "LosAngeles             484227610.41\n",
       "Midsouth               615723838.99\n",
       "GreatLakes             688661844.27\n",
       "Southeast              703630581.04\n",
       "SouthCentral           874059289.26\n",
       "Northeast              960007873.70\n",
       "West                  1066833656.04\n",
       "California            1121414026.51\n",
       "TotalUS               6387593101.34\n",
       "dtype: float64"
      ]
     },
     "execution_count": 81,
     "metadata": {},
     "output_type": "execute_result"
    },
    {
     "data": {
      "image/png": "[encoded data removed]",
      "text/plain": [
       "<Figure size 864x360 with 1 Axes>"
      ]
     },
     "metadata": {
      "needs_background": "light"
     },
     "output_type": "display_data"
    }
   ],
   "source": [
    "avocado = pd.read_csv('./avocado.csv').drop('Unnamed: 0', axis=1)\n",
    "fig, ax = plt.subplots(figsize=(12,5))\n",
    "pd.set_option('display.float_format', '{:.2f}'.format)\n",
    "# sort by total price sold for each region\n",
    "avocado_by_region = avocado.groupby('region').apply(lambda x: (x['Total Volume'] * x['AveragePrice']).sum()).sort_values()\n",
    "avocado_by_region.drop(['TotalUS','California','West']).plot(kind='bar')\n",
    "plt.bar(avocado_by_region.index, avocado_by_region, width = 5)\n",
    "plt.title('Total Volume of Avocadoes sold by Region')\n",
    "avocado_by_region"
   ]
  },
  {
   "cell_type": "code",
   "execution_count": null,
   "metadata": {},
   "outputs": [],
   "source": []
  }
 ],
 "metadata": {
  "kernelspec": {
   "display_name": "Python 3",
   "language": "python",
   "name": "python3"
  },
  "language_info": {
   "codemirror_mode": {
    "name": "ipython",
    "version": 3
   },
   "file_extension": ".py",
   "mimetype": "text/x-python",
   "name": "python",
   "nbconvert_exporter": "python",
   "pygments_lexer": "ipython3",
   "version": "3.7.1"
  }
 },
 "nbformat": 4,
 "nbformat_minor": 2
}
